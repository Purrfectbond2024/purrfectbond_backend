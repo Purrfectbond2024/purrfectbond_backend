{
 "cells": [
  {
   "cell_type": "code",
   "execution_count": 1,
   "id": "bc35a4d8-4942-41f6-afdd-ab6d4d343d44",
   "metadata": {},
   "outputs": [
    {
     "name": "stderr",
     "output_type": "stream",
     "text": [
      "[nltk_data] Downloading package stopwords to C:\\Users\\ERICA\n",
      "[nltk_data]     OPALLA\\AppData\\Roaming\\nltk_data...\n",
      "[nltk_data]   Package stopwords is already up-to-date!\n",
      "[nltk_data] Downloading package stopwords to C:\\Users\\ERICA\n",
      "[nltk_data]     OPALLA\\AppData\\Roaming\\nltk_data...\n",
      "[nltk_data]   Package stopwords is already up-to-date!\n",
      "[nltk_data] Downloading package stopwords to C:\\Users\\ERICA\n",
      "[nltk_data]     OPALLA\\AppData\\Roaming\\nltk_data...\n",
      "[nltk_data]   Package stopwords is already up-to-date!\n",
      "[nltk_data] Downloading package stopwords to C:\\Users\\ERICA\n",
      "[nltk_data]     OPALLA\\AppData\\Roaming\\nltk_data...\n",
      "[nltk_data]   Package stopwords is already up-to-date!\n"
     ]
    },
    {
     "name": "stdout",
     "output_type": "stream",
     "text": [
      "Adopter ID 4 falls under the category: Experienced\n",
      "Previous-Preference Similarity Scores: [0.72356805]\n",
      "No pets found matching desired pet type: Dog. Recommending all pets.\n",
      "No pets met the similarity score. Providing fallback recommendations.\n",
      "\n",
      "Fallback Recommended Pet ID: 599\n",
      "Pet Features:\n",
      "Type: Cat\n",
      "Age: Kitten\n",
      "Gender: Female\n",
      "Vaccinated: No\n",
      "Spayed/Neutered: No\n",
      "Adoption Story: adopted\n",
      "Temperament: affectionate\n",
      "\n",
      "\n",
      "Fallback Recommended Pet ID: 205\n",
      "Pet Features:\n",
      "Type: Dog\n",
      "Age: Adult\n",
      "Gender: Male\n",
      "Vaccinated: Yes\n",
      "Spayed/Neutered: Yes\n",
      "Adoption Story: rescued\n",
      "Temperament: friendly\n",
      "\n",
      "Recommended Pets: [599, 205]\n"
     ]
    }
   ],
   "source": [
    "from reco import process_and_recommend\n",
    "\n",
    "# Define file paths and parameters\n",
    "pet_file = 'pet.csv'\n",
    "screening_file = 'screening_model.csv'\n",
    "recommendation_file = 'recommendation_model.csv'\n",
    "adopter_id = 4\n",
    "\n",
    "# Call the function to get recommended pets\n",
    "recommended_pets = process_and_recommend(pet_file, screening_file, recommendation_file, adopter_id)\n",
    "\n",
    "# Print recommended pets\n",
    "print(\"Recommended Pets:\", recommended_pets)"
   ]
  },
  {
   "cell_type": "code",
   "execution_count": null,
   "id": "ee1c460d-9e26-4a33-b402-0935c4c4f89b",
   "metadata": {},
   "outputs": [],
   "source": []
  }
 ],
 "metadata": {
  "kernelspec": {
   "display_name": "Python 3 (ipykernel)",
   "language": "python",
   "name": "python3"
  },
  "language_info": {
   "codemirror_mode": {
    "name": "ipython",
    "version": 3
   },
   "file_extension": ".py",
   "mimetype": "text/x-python",
   "name": "python",
   "nbconvert_exporter": "python",
   "pygments_lexer": "ipython3",
   "version": "3.12.4"
  }
 },
 "nbformat": 4,
 "nbformat_minor": 5
}
