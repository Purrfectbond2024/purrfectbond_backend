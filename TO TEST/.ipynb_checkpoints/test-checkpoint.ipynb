{
 "cells": [
  {
   "cell_type": "code",
   "execution_count": null,
   "id": "bc35a4d8-4942-41f6-afdd-ab6d4d343d44",
   "metadata": {},
   "outputs": [],
   "source": [
    "from reco import process_and_recommend\n",
    "\n",
    "# Define file paths and parameters\n",
    "pet_file = 'pet.csv'\n",
    "screening_file = 'screening_model.csv'\n",
    "recommendation_file = 'recommendation_model.csv'\n",
    "adopter_id = 4\n",
    "\n",
    "# Call the function to get recommended pets\n",
    "recommended_pets = process_and_recommend(pet_file, screening_file, recommendation_file, adopter_id)\n",
    "\n",
    "# Print recommended pets\n",
    "print(\"Recommended Pets:\", recommended_pets)"
   ]
  },
  {
   "cell_type": "code",
   "execution_count": null,
   "id": "6fc4beab-195c-4e25-bcde-ff07b768ab8d",
   "metadata": {},
   "outputs": [],
   "source": []
  }
 ],
 "metadata": {
  "kernelspec": {
   "display_name": "Python 3 (ipykernel)",
   "language": "python",
   "name": "python3"
  },
  "language_info": {
   "codemirror_mode": {
    "name": "ipython",
    "version": 3
   },
   "file_extension": ".py",
   "mimetype": "text/x-python",
   "name": "python",
   "nbconvert_exporter": "python",
   "pygments_lexer": "ipython3",
   "version": "3.12.4"
  }
 },
 "nbformat": 4,
 "nbformat_minor": 5
}
